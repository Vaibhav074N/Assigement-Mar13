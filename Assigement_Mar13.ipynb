{
  "nbformat": 4,
  "nbformat_minor": 0,
  "metadata": {
    "colab": {
      "provenance": [],
      "authorship_tag": "ABX9TyMOr5dZDXyOr99a2E+VKh8z",
      "include_colab_link": true
    },
    "kernelspec": {
      "name": "python3",
      "display_name": "Python 3"
    },
    "language_info": {
      "name": "python"
    }
  },
  "cells": [
    {
      "cell_type": "markdown",
      "metadata": {
        "id": "view-in-github",
        "colab_type": "text"
      },
      "source": [
        "<a href=\"https://colab.research.google.com/github/Vaibhav074N/Assigement-Mar13/blob/main/Assigement_Mar13.ipynb\" target=\"_parent\"><img src=\"https://colab.research.google.com/assets/colab-badge.svg\" alt=\"Open In Colab\"/></a>"
      ]
    },
    {
      "cell_type": "markdown",
      "source": [
        "Q1. Explain the assumptions required to use ANOVA and provide examples of violations that could impact\n",
        "the validity of the results."
      ],
      "metadata": {
        "id": "JE8t08F6BWMN"
      }
    },
    {
      "cell_type": "markdown",
      "source": [
        "Assumptions:-\n",
        "\n",
        "1.normality of sampling distribution of means - The distribution of sample mean is normally distributed.\n",
        "\n",
        "2.Absence of outliers - Outlying score need to be removed from dataset.\n",
        "\n",
        "3.Homogenity of variance - Population variance in different levels of each independent variable are equal.\n",
        "\n",
        "4.Samples are independent and random"
      ],
      "metadata": {
        "id": "UfsQ21hmCLrH"
      }
    },
    {
      "cell_type": "markdown",
      "source": [
        "Violations of these assumptions can impact the validity of ANOVA results. For example:\n",
        "\n",
        "1.Violation of normality assumption: If the data does not follow a normal distribution, the ANOVA may produce misleading results. For example, if the data is skewed or has outliers, this could violate the normality assumption.\n",
        "\n",
        "2.Violation of homogeneity of variances assumption: If the variance of the data is not equal across all groups, the ANOVA may not be able to accurately compare the means of the groups. For example, if one group has much higher variance than another, this could violate the homogeneity of variances assumption.\n",
        "\n",
        "3.Violation of independence assumption: If the observations within each group are not independent of each other, the ANOVA results may be biased. For example, if measurements are taken from the same individuals over time, this could violate the independence assumption.\n",
        "\n",
        "It is important to check these assumptions before performing ANOVA and take appropriate actions if any of the assumptions are violated, such as using non-parametric tests or transforming the data to meet the assumptions."
      ],
      "metadata": {
        "id": "dyjBAjONDfcC"
      }
    },
    {
      "cell_type": "code",
      "execution_count": null,
      "metadata": {
        "id": "tQBwkzOXBQs1"
      },
      "outputs": [],
      "source": []
    },
    {
      "cell_type": "markdown",
      "source": [
        "Q2. What are the three types of ANOVA, and in what situations would each be used?"
      ],
      "metadata": {
        "id": "YHLqQz7YDryY"
      }
    },
    {
      "cell_type": "markdown",
      "source": [
        "One-way ANOVA is used to compare the means of three or more groups that are independent of each other. This means that each group is made up of different individuals and there is no overlap between groups. For example, a one-way ANOVA can be used to compare the mean test scores of students from three different schools.\n",
        "\n",
        "Repeated measures ANOVA is used when the same group of individuals is measured at multiple time points or under multiple conditions. This means that there is overlap between the groups being compared. For example, a repeated measures ANOVA can be used to compare the mean anxiety levels of individuals before and after a treatment.\n",
        "\n",
        "Factorial ANOVA is used to analyze the effects of two or more independent variables on a dependent variable. This means that there are multiple factors that could be contributing to differences in the means between groups. For example, a factorial ANOVA could be used to analyze the effects of both gender and age on job performance scores."
      ],
      "metadata": {
        "id": "Db7w77YfDzdf"
      }
    },
    {
      "cell_type": "code",
      "source": [],
      "metadata": {
        "id": "T44fIwkVDvQM"
      },
      "execution_count": null,
      "outputs": []
    },
    {
      "cell_type": "markdown",
      "source": [
        "Q3. What is the partitioning of variance in ANOVA, and why is it important to understand this concept?"
      ],
      "metadata": {
        "id": "8xXVbuIuE97D"
      }
    },
    {
      "cell_type": "markdown",
      "source": [
        "The partitioning of variance in ANOVA refers to the process of breaking down the total variability in a data set into different components that can be attributed to specific sources of variation. In ANOVA, the total variance is partitioned into two types of variance: between-group variance and within-group variance.\n",
        "\n",
        "Between-group variance refers to the variability in the data that is due to differences between the groups being compared, while within-group variance refers to the variability in the data that is due to differences within the groups. By partitioning the total variance in this way, ANOVA allows researchers to determine whether the differences between the groups are statistically significant or simply due to random variation.\n",
        "\n",
        "Understanding the partitioning of variance is important because it helps researchers to identify the sources of variation that are contributing to the differences between groups, which can inform the development of hypotheses and guide future research. It also helps researchers to assess the reliability and validity of their results and to make appropriate conclusions based on the data"
      ],
      "metadata": {
        "id": "5zFvLJjXFZLL"
      }
    },
    {
      "cell_type": "code",
      "source": [],
      "metadata": {
        "id": "O2wehR5WFFBI"
      },
      "execution_count": null,
      "outputs": []
    },
    {
      "cell_type": "markdown",
      "source": [
        "Q4. How would you calculate the total sum of squares (SST), explained sum of squares (SSE), and residual\n",
        "sum of squares (SSR) in a one-way ANOVA using Python?"
      ],
      "metadata": {
        "id": "1lC-wvgwFbVI"
      }
    },
    {
      "cell_type": "code",
      "source": [
        "import numpy as np\n",
        "from scipy.stats import f\n",
        "\n",
        "group1 = [5, 7, 8, 6, 5]\n",
        "group2 = [9, 11, 12, 10, 9]\n",
        "group3 = [3, 5, 6, 4, 3]\n",
        "all_data = np.concatenate([group1, group2, group3])\n",
        "\n",
        "grand_mean = np.mean(all_data)\n",
        "\n",
        "group_means = [np.mean(group1), np.mean(group2), np.mean(group3)]\n",
        "\n",
        "group_sizes = [len(group1), len(group2), len(group3)]\n",
        "\n",
        "SST = np.sum((all_data - grand_mean) ** 2)\n",
        "\n",
        "SSE = np.sum(group_sizes * (group_means - grand_mean) ** 2)\n",
        "\n",
        "SSR = np.sum([(x - group_means[i])**2 for i, group in enumerate([group1, group2, group3]) for x in group])\n",
        "\n",
        "df_between = len(group_sizes) - 1\n",
        "df_within = len(all_data) - len(group_sizes)\n",
        "df_total = len(all_data) - 1\n",
        "\n",
        "MS_between = SSE / df_between\n",
        "MS_within = SSR / df_within\n",
        "\n",
        "F = MS_between / MS_within\n",
        "p_value = f.sf(F, df_between, df_within)\n",
        "\n",
        "print(\"SST =\", SST)\n",
        "print(\"SSE =\", SSE)\n",
        "print(\"SSR =\", SSR)\n",
        "print(\"F =\", F)\n",
        "print(\"p-value =\", p_value)"
      ],
      "metadata": {
        "colab": {
          "base_uri": "https://localhost:8080/"
        },
        "id": "v10uS2ZoHavM",
        "outputId": "9da914ce-8cec-45fa-c0ce-5e2c26c61a06"
      },
      "execution_count": null,
      "outputs": [
        {
          "output_type": "stream",
          "name": "stdout",
          "text": [
            "SST = 113.73333333333333\n",
            "SSE = 93.33333333333331\n",
            "SSR = 20.4\n",
            "F = 27.450980392156858\n",
            "p-value = 3.330077937505477e-05\n"
          ]
        }
      ]
    },
    {
      "cell_type": "code",
      "source": [],
      "metadata": {
        "id": "2s_A9-fmHh7O"
      },
      "execution_count": null,
      "outputs": []
    },
    {
      "cell_type": "markdown",
      "source": [
        "Q5. In a two-way ANOVA, how would you calculate the main effects and interaction effects using Python?"
      ],
      "metadata": {
        "id": "zRfdHgP1Ilhh"
      }
    },
    {
      "cell_type": "code",
      "source": [
        "import pandas as pd\n",
        "import statsmodels.api as sm\n",
        "from statsmodels.formula.api import ols\n",
        "\n",
        "data = {'Field': [1, 1, 1, 1, 2, 2, 2, 2, 3, 3, 3, 3],\n",
        "        'Temp': ['Low', 'Low', 'High', 'High', 'Low', 'Low', 'High', 'High', 'Low', 'Low', 'High', 'High'],\n",
        "        'Humidity': ['Low', 'High', 'Low', 'High', 'Low', 'High', 'Low', 'High', 'Low', 'High', 'Low', 'High'],\n",
        "        'Yield': [20, 30, 40, 50, 15, 25, 35, 45, 18, 28, 38, 48]}\n",
        "df = pd.DataFrame(data)\n",
        "\n",
        "model = ols('Yield ~ C(Temp) + C(Humidity) + C(Temp):C(Humidity)', data=df).fit()\n",
        "\n",
        "print(sm.stats.anova_lm(model, typ=2))"
      ],
      "metadata": {
        "colab": {
          "base_uri": "https://localhost:8080/"
        },
        "id": "BlItvSYTKbwc",
        "outputId": "6550c56a-d24e-430d-c25e-011a1b0a3e94"
      },
      "execution_count": null,
      "outputs": [
        {
          "output_type": "stream",
          "name": "stdout",
          "text": [
            "                           sum_sq   df             F        PR(>F)\n",
            "C(Temp)              1.200000e+03  1.0  1.894737e+02  7.487604e-07\n",
            "C(Humidity)          3.000000e+02  1.0  4.736842e+01  1.267523e-04\n",
            "C(Temp):C(Humidity)  8.519698e-29  1.0  1.345215e-29  1.000000e+00\n",
            "Residual             5.066667e+01  8.0           NaN           NaN\n"
          ]
        }
      ]
    },
    {
      "cell_type": "code",
      "source": [],
      "metadata": {
        "id": "vye1Y5NbLEnp"
      },
      "execution_count": null,
      "outputs": []
    },
    {
      "cell_type": "markdown",
      "source": [
        "Q6. Suppose you conducted a one-way ANOVA and obtained an F-statistic of 5.23 and a p-value of 0.02.\n",
        "What can you conclude about the differences between the groups, and how would you interpret these\n",
        "results?"
      ],
      "metadata": {
        "id": "EYYaraSwLQGD"
      }
    },
    {
      "cell_type": "markdown",
      "source": [
        "An F-statistic of 5.23 and a p-value of 0.02 suggest that there is a significant difference between the groups being compared. This means that the null hypothesis (i.e., the groups have equal means) can be rejected. Specifically, the F-statistic tells us how much of the variation in the data is explained by the differences between the groups (i.e., the effect of the independent variable), relative to the variation that is not explained by these differences (i.e., the residual variation). In this case, the F-statistic of 5.23 indicates that the effect of the independent variable (i.e., the group variable) is greater than would be expected by chance alone.\n",
        "\n",
        "The p-value of 0.02 suggests that the probability of obtaining an F-statistic as extreme as 5.23 or more extreme, assuming the null hypothesis is true, is 0.02. Since this probability is below the significance level (usually 0.05), we can reject the null hypothesis and conclude that there is a significant difference between the groups being compared.\n",
        "\n",
        "In summary, we can conclude that the mean scores of the groups being compared are not equal, and that the differences between the groups are statistically significant at the chosen significance level."
      ],
      "metadata": {
        "id": "chsOCwsbczgY"
      }
    },
    {
      "cell_type": "code",
      "source": [],
      "metadata": {
        "id": "dIzk4JajLUYc"
      },
      "execution_count": null,
      "outputs": []
    },
    {
      "cell_type": "markdown",
      "source": [
        "Q7. In a repeated measures ANOVA, how would you handle missing data, and what are the potential\n",
        "consequences of using different methods to handle missing data?"
      ],
      "metadata": {
        "id": "ApsbjNFOdmfq"
      }
    },
    {
      "cell_type": "markdown",
      "source": [
        "Handling missing data in repeated measures ANOVA can be challenging as it requires all subjects to have complete data for all measurement points. There are several ways to handle missing data, including:\n",
        "\n",
        "1.Complete case analysis: This involves only using subjects who have complete data for all measurement points. However, this can lead to a loss of power and bias if the missing data is not missing at random.\n",
        "\n",
        "2.Pairwise deletion: This involves using all available data for each subject, which can be useful when only a small amount of data is missing. However, this can also lead to biased results if the missing data is not missing at random.\n",
        "\n",
        "3.Imputation methods: These involve filling in the missing data using statistical methods. There are several imputation methods available, including mean imputation, regression imputation, and multiple imputation. These methods can be useful for handling missing data, but the validity of the results depends on the assumptions made about the missing data.\n",
        "\n",
        "The potential consequences of using different methods to handle missing data in repeated measures ANOVA include biased estimates, reduced statistical power, and incorrect conclusions about the significance of the results. It is important to carefully consider the reasons for missing data and to use appropriate methods for handling it to ensure valid and reliable results."
      ],
      "metadata": {
        "id": "VRklbtRwc9zC"
      }
    },
    {
      "cell_type": "code",
      "source": [],
      "metadata": {
        "id": "-wnBvlr5dlOA"
      },
      "execution_count": null,
      "outputs": []
    },
    {
      "cell_type": "markdown",
      "source": [
        "Q8. What are some common post-hoc tests used after ANOVA, and when would you use each one? Provide\n",
        "an example of a situation where a post-hoc test might be necessary."
      ],
      "metadata": {
        "id": "FjA8ns7JeNH-"
      }
    },
    {
      "cell_type": "markdown",
      "source": [
        "Post-hoc tests are used after ANOVA to make pairwise comparisons between groups when there are three or more groups being compared. Some common post-hoc tests include Tukey's HSD, Bonferroni, Scheffe's, and Dunnett's tests.\n",
        "\n",
        "1.Tukey's HSD (honestly significant difference) test is used when the sample sizes are equal and assumes that the variances are homogeneous. It is a conservative test that controls the Type I error rate.\n",
        "\n",
        "\n",
        "2.Bonferroni test is more conservative than Tukey's HSD test and is used when multiple pairwise comparisons are made. It is a simple test that divides the alpha level by the number of comparisons to control the family-wise error rate.\n",
        "\n",
        "\n",
        "3.Scheffe's test is more powerful than Tukey's HSD test and is used when the sample sizes are unequal or when the variances are not homogeneous. It is a conservative test that controls the family-wise error rate.\n",
        "\n",
        "\n",
        "4.Dunnett's test is used when there is a control group and multiple treatment groups. It compares each treatment group to the control group.\n",
        "\n",
        "\n",
        "An example of a situation where a post-hoc test might be necessary is in a study comparing the mean scores on a test for three different groups: Group A, Group B, and Group C. After conducting an ANOVA, the result shows a significant difference between the groups. To determine which specific groups are significantly different from each other, a post-hoc test such as Tukey's HSD or Bonferroni can be used."
      ],
      "metadata": {
        "id": "OCytTjlddp4c"
      }
    },
    {
      "cell_type": "code",
      "source": [],
      "metadata": {
        "id": "P0x0yqwEeLgX"
      },
      "execution_count": null,
      "outputs": []
    },
    {
      "cell_type": "markdown",
      "source": [
        "Q9. A researcher wants to compare the mean weight loss of three diets: A, B, and C. They collect data from\n",
        "50 participants who were randomly assigned to one of the diets. Conduct a one-way ANOVA using Python\n",
        "to determine if there are any significant differences between the mean weight loss of the three diets.\n",
        "Report the F-statistic and p-value, and interpret the results."
      ],
      "metadata": {
        "id": "Td_8AkRveRSK"
      }
    },
    {
      "cell_type": "code",
      "source": [
        "import numpy as np\n",
        "from scipy.stats import f_oneway\n",
        "\n",
        "diet_a = np.array([3, 5, 4, 6, 7, 4, 2, 5, 6, 8, 4, 5, 6, 4, 2, 5, 6, 7, 4, 5, 6, 8, 4, 5, 6, 4, 2, 5, 6, 7])\n",
        "diet_b = np.array([5, 7, 6, 8, 9, 5, 3, 6, 7, 9, 5, 6, 7, 5, 3, 6, 7, 8, 5, 6, 7, 9, 5, 6, 7, 5, 3, 6, 7, 8])\n",
        "diet_c = np.array([4, 6, 5, 7, 8, 4, 2, 6, 7, 8, 4, 5, 7, 4, 2, 6, 7, 8, 4, 5, 7, 8, 4, 5, 7, 4, 2, 6, 7, 8])\n",
        "\n",
        "f_stat, p_val = f_oneway(diet_a, diet_b, diet_c)\n",
        "\n",
        "print(\"F-statistic: \", f_stat)\n",
        "print(\"p-value: \", p_val)"
      ],
      "metadata": {
        "colab": {
          "base_uri": "https://localhost:8080/"
        },
        "id": "GxrDrfxBeXJB",
        "outputId": "0750eb05-4ac3-43fb-f6b3-a1f187940f1b"
      },
      "execution_count": null,
      "outputs": [
        {
          "output_type": "stream",
          "name": "stdout",
          "text": [
            "F-statistic:  3.48954794878495\n",
            "p-value:  0.03485198850290565\n"
          ]
        }
      ]
    },
    {
      "cell_type": "code",
      "source": [],
      "metadata": {
        "id": "jML07KNhfPqe"
      },
      "execution_count": null,
      "outputs": []
    },
    {
      "cell_type": "markdown",
      "source": [
        "Q10. A company wants to know if there are any significant differences in the average time it takes to\n",
        "complete a task using three different software programs: Program A, Program B, and Program C. They\n",
        "randomly assign 30 employees to one of the programs and record the time it takes each employee to\n",
        "complete the task. Conduct a two-way ANOVA using Python to determine if there are any main effects or\n",
        "interaction effects between the software programs and employee experience level (novice vs.\n",
        "experienced). Report the F-statistics and p-values, and interpret the results."
      ],
      "metadata": {
        "id": "fsQcN9sZgajN"
      }
    },
    {
      "cell_type": "code",
      "source": [
        "import pandas as pd\n",
        "import numpy as np\n",
        "import statsmodels.api as sm\n",
        "from statsmodels.formula.api import ols\n",
        "\n",
        "data = {'program': ['A']*30 + ['B']*30 + ['C']*30,\n",
        "        'experience': ['novice']*45 + ['experienced']*45,\n",
        "        'time': np.random.randint(1, 100, 90)}\n",
        "df = pd.DataFrame(data)\n",
        "\n",
        "model = ols('time ~ C(program) + C(experience) + C(program):C(experience)', data=df).fit()\n",
        "anova_table = sm.stats.anova_lm(model, typ=2)\n",
        "\n",
        "print(anova_table)"
      ],
      "metadata": {
        "colab": {
          "base_uri": "https://localhost:8080/"
        },
        "id": "nZBV8EaO0XKN",
        "outputId": "86b46ef5-44ac-4347-b0e3-4c15bffd87c3"
      },
      "execution_count": null,
      "outputs": [
        {
          "output_type": "stream",
          "name": "stdout",
          "text": [
            "                                sum_sq    df         F    PR(>F)\n",
            "C(program)                 5107.425690   2.0  2.874939  0.093586\n",
            "C(experience)                      NaN   1.0       NaN       NaN\n",
            "C(program):C(experience)   8004.284444   2.0  4.505564  0.036660\n",
            "Residual                  76390.933333  86.0       NaN       NaN\n"
          ]
        },
        {
          "output_type": "stream",
          "name": "stderr",
          "text": [
            "/usr/local/lib/python3.9/dist-packages/statsmodels/base/model.py:1871: ValueWarning: covariance of constraints does not have full rank. The number of constraints is 2, but rank is 1\n",
            "  warnings.warn('covariance of constraints does not have full '\n",
            "/usr/local/lib/python3.9/dist-packages/statsmodels/base/model.py:1871: ValueWarning: covariance of constraints does not have full rank. The number of constraints is 1, but rank is 0\n",
            "  warnings.warn('covariance of constraints does not have full '\n",
            "/usr/local/lib/python3.9/dist-packages/statsmodels/base/model.py:1900: RuntimeWarning: invalid value encountered in true_divide\n",
            "  F /= J\n",
            "/usr/local/lib/python3.9/dist-packages/statsmodels/base/model.py:1871: ValueWarning: covariance of constraints does not have full rank. The number of constraints is 2, but rank is 1\n",
            "  warnings.warn('covariance of constraints does not have full '\n"
          ]
        }
      ]
    },
    {
      "cell_type": "code",
      "source": [],
      "metadata": {
        "id": "74a4VLBj16kQ"
      },
      "execution_count": null,
      "outputs": []
    },
    {
      "cell_type": "markdown",
      "source": [
        "Q11. An educational researcher is interested in whether a new teaching method improves student test\n",
        "scores. They randomly assign 100 students to either the control group (traditional teaching method) or the\n",
        "experimental group (new teaching method) and administer a test at the end of the semester. Conduct a\n",
        "two-sample t-test using Python to determine if there are any significant differences in test scores\n",
        "between the two groups. If the results are significant, follow up with a post-hoc test to determine which\n",
        "group(s) differ significantly from each other."
      ],
      "metadata": {
        "id": "d3TMwi3I2Cg_"
      }
    },
    {
      "cell_type": "code",
      "source": [
        "import pandas as pd\n",
        "from scipy.stats import ttest_ind\n",
        "\n",
        "df = pd.DataFrame({'Control': [80, 75, 85, 90, 72, 78, 84, 88, 75, 79],\n",
        "                   'Experimental': [85, 82, 90, 94, 80, 86, 92, 96, 83, 88]})\n",
        "\n",
        "t_stat, p_val = ttest_ind(df['Control'], df['Experimental'])\n",
        "\n",
        "print('t-statistic:', t_stat)\n",
        "print('p-value:', p_val)"
      ],
      "metadata": {
        "colab": {
          "base_uri": "https://localhost:8080/"
        },
        "id": "SyTdLvLw2nva",
        "outputId": "44e244cc-38c0-4db6-e8bd-5b2de27d418a"
      },
      "execution_count": null,
      "outputs": [
        {
          "output_type": "stream",
          "name": "stdout",
          "text": [
            "t-statistic: -2.7650734290360472\n",
            "p-value: 0.012755181353595034\n"
          ]
        }
      ]
    },
    {
      "cell_type": "code",
      "source": [
        "from statsmodels.stats.multicomp import pairwise_tukeyhsd\n",
        "\n",
        "tukey = pairwise_tukeyhsd(df.stack().values, df.stack().index.get_level_values(1))\n",
        "\n",
        "print(tukey.summary())"
      ],
      "metadata": {
        "colab": {
          "base_uri": "https://localhost:8080/"
        },
        "id": "ZNplOrX22yBd",
        "outputId": "96b004ad-a76e-43fe-aa28-f108e82d1be7"
      },
      "execution_count": null,
      "outputs": [
        {
          "output_type": "stream",
          "name": "stdout",
          "text": [
            "   Multiple Comparison of Means - Tukey HSD, FWER=0.05    \n",
            "==========================================================\n",
            " group1    group2    meandiff p-adj  lower   upper  reject\n",
            "----------------------------------------------------------\n",
            "Control Experimental      7.0 0.0128 1.6814 12.3186   True\n",
            "----------------------------------------------------------\n"
          ]
        }
      ]
    },
    {
      "cell_type": "code",
      "source": [],
      "metadata": {
        "id": "hcJlCixb25Y2"
      },
      "execution_count": null,
      "outputs": []
    },
    {
      "cell_type": "markdown",
      "source": [
        "Q12. A researcher wants to know if there are any significant differences in the average daily sales of three\n",
        "retail stores: Store A, Store B, and Store C. They randomly select 30 days and record the sales for each store\n",
        "on those days. Conduct a repeated measures ANOVA using Python to determine if there are any\n",
        "\n",
        "significant differences in sales between the three stores. If the results are significant, follow up with a post-\n",
        "hoc test to determine which store(s) differ significantly from each other."
      ],
      "metadata": {
        "id": "9W1wDPb23BS7"
      }
    },
    {
      "cell_type": "code",
      "source": [
        "import pandas as pd\n",
        "import numpy as np\n",
        "from statsmodels.stats.anova import AnovaRM\n",
        "\n",
        "# Create a pandas dataframe with the sales data\n",
        "sales = pd.DataFrame({\n",
        "    'Store': ['A', 'B', 'C'] * 30,\n",
        "    'Day': np.repeat(range(30), 3),\n",
        "    'Sales': np.random.randint(100, 1000, size=90)\n",
        "})\n",
        "\n",
        "# Convert the dataframe to a wide format\n",
        "sales_wide = sales.pivot(index='Day', columns='Store', values='Sales')\n",
        "\n",
        "# Create a repeated measures ANOVA model\n",
        "model = AnovaRM(sales, 'Sales', 'Day', within=['Store'])\n",
        "\n",
        "# Fit the model and print the results\n",
        "results = model.fit()\n",
        "print(results)\n",
        "\n",
        "# Follow up with a post-hoc test\n",
        "from statsmodels.stats.multicomp import pairwise_tukeyhsd\n",
        "\n",
        "tukey = pairwise_tukeyhsd(sales['Sales'], sales['Store'])\n",
        "print(tukey)"
      ],
      "metadata": {
        "colab": {
          "base_uri": "https://localhost:8080/"
        },
        "id": "75eY22xN3N4S",
        "outputId": "f7bb0895-0817-4dde-efd3-657e80f27329"
      },
      "execution_count": 11,
      "outputs": [
        {
          "output_type": "stream",
          "name": "stdout",
          "text": [
            "               Anova\n",
            "===================================\n",
            "      F Value Num DF  Den DF Pr > F\n",
            "-----------------------------------\n",
            "Store  1.8438 2.0000 58.0000 0.1674\n",
            "===================================\n",
            "\n",
            "  Multiple Comparison of Means - Tukey HSD, FWER=0.05   \n",
            "========================================================\n",
            "group1 group2  meandiff p-adj    lower    upper   reject\n",
            "--------------------------------------------------------\n",
            "     A      B  -35.2667 0.8446 -187.0245 116.4912  False\n",
            "     A      C -124.5667 0.1291 -276.3245  27.1912  False\n",
            "     B      C     -89.3 0.3438 -241.0579  62.4579  False\n",
            "--------------------------------------------------------\n"
          ]
        }
      ]
    },
    {
      "cell_type": "code",
      "source": [],
      "metadata": {
        "id": "wD-ntS4s3fVy"
      },
      "execution_count": null,
      "outputs": []
    }
  ]
}